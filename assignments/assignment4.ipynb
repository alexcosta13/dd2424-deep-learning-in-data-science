{
 "cells": [
  {
   "cell_type": "markdown",
   "metadata": {
    "collapsed": true
   },
   "source": [
    "# DD2424 Deep Learning in Data Science\n",
    "## Assignment 4"
   ]
  },
  {
   "cell_type": "markdown",
   "metadata": {},
   "source": [
    "### Imports"
   ]
  },
  {
   "cell_type": "code",
   "execution_count": 1,
   "metadata": {
    "collapsed": true
   },
   "outputs": [
    {
     "name": "stdout",
     "output_type": "stream",
     "text": [
      "Requirement already satisfied: numpy in /usr/local/lib/python3.9/site-packages (1.20.3)\n",
      "Requirement already satisfied: matplotlib in /usr/local/lib/python3.9/site-packages (3.4.2)\n",
      "Requirement already satisfied: numpy>=1.16 in /usr/local/lib/python3.9/site-packages (from matplotlib) (1.20.3)\n",
      "Requirement already satisfied: python-dateutil>=2.7 in /usr/local/lib/python3.9/site-packages (from matplotlib) (2.8.1)\n",
      "Requirement already satisfied: cycler>=0.10 in /usr/local/lib/python3.9/site-packages (from matplotlib) (0.10.0)\n",
      "Requirement already satisfied: pyparsing>=2.2.1 in /usr/local/Cellar/sip/6.1.0/libexec/lib/python3.9/site-packages (from matplotlib) (2.4.7)\n",
      "Requirement already satisfied: pillow>=6.2.0 in /usr/local/lib/python3.9/site-packages (from matplotlib) (8.2.0)\n",
      "Requirement already satisfied: kiwisolver>=1.0.1 in /usr/local/lib/python3.9/site-packages (from matplotlib) (1.3.1)\n",
      "Requirement already satisfied: six in /usr/local/lib/python3.9/site-packages (from cycler>=0.10->matplotlib) (1.16.0)\n",
      "Requirement already satisfied: pandas in /usr/local/lib/python3.9/site-packages (1.2.4)\n",
      "Requirement already satisfied: python-dateutil>=2.7.3 in /usr/local/lib/python3.9/site-packages (from pandas) (2.8.1)\n",
      "Requirement already satisfied: numpy>=1.16.5 in /usr/local/lib/python3.9/site-packages (from pandas) (1.20.3)\n",
      "Requirement already satisfied: pytz>=2017.3 in /usr/local/lib/python3.9/site-packages (from pandas) (2021.1)\n",
      "Requirement already satisfied: six>=1.5 in /usr/local/lib/python3.9/site-packages (from python-dateutil>=2.7.3->pandas) (1.16.0)\n",
      "Requirement already satisfied: tqdm in /usr/local/lib/python3.9/site-packages (4.54.1)\n"
     ]
    }
   ],
   "source": [
    "import sys\n",
    "!{sys.executable} -m pip install numpy\n",
    "!{sys.executable} -m pip install matplotlib\n",
    "!{sys.executable} -m pip install pandas\n",
    "!{sys.executable} -m pip install tqdm"
   ]
  },
  {
   "cell_type": "code",
   "execution_count": 2,
   "metadata": {},
   "outputs": [],
   "source": [
    "from data import *\n",
    "from utils import *\n",
    "from rnn import RNN"
   ]
  },
  {
   "cell_type": "markdown",
   "metadata": {},
   "source": [
    "## Basic part\n",
    "Implement and train a vanilla RNN"
   ]
  },
  {
   "cell_type": "markdown",
   "metadata": {},
   "source": [
    "##### Load and process data"
   ]
  },
  {
   "cell_type": "code",
   "execution_count": 3,
   "metadata": {},
   "outputs": [],
   "source": [
    "data = load_and_process_text(\"goblet_book.txt\")\n",
    "book_data = data['book_data']\n",
    "char_2_indices = data['char_2_indices']\n",
    "indices_2_char = data['indices_2_char']\n",
    "k = len(data['book_chars'])"
   ]
  },
  {
   "cell_type": "markdown",
   "metadata": {
    "collapsed": true
   },
   "source": [
    "##### Synthesize text"
   ]
  },
  {
   "cell_type": "code",
   "execution_count": 4,
   "metadata": {},
   "outputs": [
    {
     "data": {
      "text/plain": [
       "'RXku4UJ^xW2NS7UGqq1Wr/1_xe^W}aj•dlmx?x?;w?j}PW4itVGj)MLi;BkDsqji!ESI;HüpCFpHGY}aCUDsD3JMXJqClVn^N\\nJ\\tVsdXtPFx,,}/YOcrMy,/\"L/YQ\\nP-DA1QH0Yf\\';p;vVJqE( -fn!^CFFs_vzoBil(I.:0Bhm}YLD)RDlKLir\"eP\\'-XwYho2ü?M}3L'"
      ]
     },
     "execution_count": 4,
     "metadata": {},
     "output_type": "execute_result"
    }
   ],
   "source": [
    "rnn = RNN(k, k, hidden_size=100, char_2_indices=char_2_indices, indices_2_char=indices_2_char)\n",
    "output = rnn.generate()\n",
    "output"
   ]
  },
  {
   "cell_type": "markdown",
   "metadata": {},
   "source": [
    "##### Implement forward pass"
   ]
  },
  {
   "cell_type": "code",
   "execution_count": 5,
   "metadata": {},
   "outputs": [],
   "source": [
    "seq_length = 25\n",
    "\n",
    "x_chars = index_2_one_hot(np.array(chars_2_indices(book_data[:seq_length], char_2_indices)), 80)\n",
    "y_chars = index_2_one_hot(np.array(chars_2_indices(book_data[1:seq_length + 1], char_2_indices)), 80)"
   ]
  },
  {
   "cell_type": "code",
   "execution_count": 6,
   "metadata": {
    "scrolled": true
   },
   "outputs": [],
   "source": [
    "loss = rnn.forward(x_chars, y_chars, np.zeros(shape=(100, 1)))"
   ]
  },
  {
   "cell_type": "markdown",
   "metadata": {},
   "source": [
    "##### Implement backward pass and check gradients"
   ]
  },
  {
   "cell_type": "code",
   "execution_count": 7,
   "metadata": {},
   "outputs": [],
   "source": [
    "gradients = rnn.backward(x_chars, y_chars)"
   ]
  },
  {
   "cell_type": "code",
   "execution_count": 8,
   "metadata": {},
   "outputs": [],
   "source": [
    "gradients_num = rnn.compute_gradients_num(x_chars, y_chars)"
   ]
  },
  {
   "cell_type": "code",
   "execution_count": 9,
   "metadata": {
    "scrolled": true
   },
   "outputs": [
    {
     "name": "stdout",
     "output_type": "stream",
     "text": [
      "(100, 100) (100, 100)\n",
      "(100, 80) (100, 80)\n",
      "(100, 1) (100, 1)\n",
      "(80, 100) (80, 100)\n",
      "(80, 1) (80, 1)\n"
     ]
    }
   ],
   "source": [
    "for grad in gradients:\n",
    "    print(gradients[grad].shape, gradients_num[grad].shape)"
   ]
  },
  {
   "cell_type": "code",
   "execution_count": 10,
   "metadata": {},
   "outputs": [
    {
     "name": "stdout",
     "output_type": "stream",
     "text": [
      "True\n",
      "4.5661808839234097e-10\n"
     ]
    }
   ],
   "source": [
    "equal = True\n",
    "threshold = 0\n",
    "\n",
    "for grad in ['W']:\n",
    "    equal = equal and np.allclose(gradients[grad], gradients_num[grad], rtol=1e-6, atol=1e-6)    \n",
    "    threshold = max(threshold, np.max(np.abs(gradients[grad] - gradients_num[grad])))\n",
    "\n",
    "print(equal)\n",
    "print(threshold)"
   ]
  },
  {
   "cell_type": "markdown",
   "metadata": {},
   "source": [
    "##### Train the network"
   ]
  },
  {
   "cell_type": "code",
   "execution_count": 11,
   "metadata": {
    "scrolled": true
   },
   "outputs": [
    {
     "name": "stdout",
     "output_type": "stream",
     "text": [
      "Update step 0 with loss: 109.55376227720498\n",
      "Generated text:\n",
      "ü4W'N•EJTO)}(sx?xEpS4TaMECu0HAPbYGtPt6A?G\tFM1m•LfTQH,m1mahR6EwSGHOFQY/t:!TGvlzGPTR•9.wzGs.?PDeDZHI\tT^_DQC-ü.OPA\n",
      "YFii1HEüE(Ul?YRV)iYg:DplHPH,YO;N0BOBZQ\"/P/}HfwZNrN.-mVPsP(}CHRwbRTVkG4M67bKz_luObü'wGGr0\n",
      "\n",
      "\n",
      "\n",
      "Update step 10000 with loss: 52.43930791952755\n",
      "Generated text:\n",
      "av and fam.  \"Cre roas- hard yole nrow gamein thored. . Herlatsse sDar sibring hast,\" sarre tsoust.  No card, Ctow bacailly sp sall of on said Fratl, rart darmy the hrither, brack pot to Bant por, you\n",
      "\n",
      "\n",
      "\n",
      "Update step 20000 with loss: 48.86229876299266\n",
      "Generated text:\n",
      "aching, surkey bour the him in hadgucking lep sries for had then about- frowgliar chean tave and hrankerpemed hindent and inca Harry indo lithar's nfood, eruredn't stiving nowtiry.\n",
      "\"Haigtiry narry in \n",
      "\n",
      "\n",
      "\n",
      "Update step 30000 with loss: 47.491052211017426\n",
      "Generated text:\n",
      "edTheret go trrimwerd loopse waskoed andterony to aully.,  secked of tringe ans and said knor be face lotet to reess make - ig was of hall sair.  ot neide forey leonitting snarm whinct flompels pearin\n",
      "\n",
      "\n",
      "\n",
      "Update step 40000 with loss: 46.38950774647419\n",
      "Generated text:\n",
      "hen's thirrats gellto Voo convee both stidee therrighted, Vond we beckic. . . .  Snefer grilll gatarle I wereay of russod.  Thec?\" \"Yelson off 'rfing gror the grainathaked whining old allin.  \"Vol foo\n",
      "\n",
      "\n",
      "\n",
      "Update step 50000 with loss: 51.65693190939296\n",
      "Generated text:\n",
      " tirtal yfortee uncham..\"\n",
      "\"yto they vaffery looked ther exlet, we slear, Mresif!\"\n",
      "\"jomer.\"\n",
      "\"He's sard sare.  nouly to beweled, peen beader toed demeghtry futed peaef susing cousted a learned torenfThe\n",
      "\n",
      "\n",
      "\n",
      "Update step 60000 with loss: 48.9489646106029\n",
      "Generated text:\n",
      "undived the Hardmanl He couilmadlinguteding pitneer -yth as here dady ang.\n",
      "\"Toment leesled beast gen't stred, the fim then, Hanrubed cher.  \"What dobifese it If a ittere wing on fagliging Geld they.  \n",
      "\n",
      "\n",
      "\n",
      "Update step 70000 with loss: 47.94188881977991\n",
      "Generated text:\n",
      "gh cou.\n",
      "Harry had weaveneer?\"  Harro, I'l and Mr. Sintuldo some a off thas I to us find in'chtide lisht her winke yos thits It sorting the at has.\n",
      "Rompfort menasary eye pion pprecked of starmy loush b\n",
      "\n",
      "\n",
      "\n",
      "Update step 80000 with loss: 45.69295020110879\n",
      "Generated text:\n",
      ", Harry nan me take no his lest sitly orened leacarvent. . They drongenen were cvion.\n",
      "\"Down gol at hever... I a ning annull afory unda thing ont cordice ont.\"\n",
      "\"Ludio cos from his withtor the his was F\n",
      "\n",
      "\n",
      "\n",
      "Update step 90000 with loss: 45.5796910862937\n",
      "Generated text:\n",
      " peallifh it, and duth his had to him fldicicl.  Harry worde he tark he ingint of plotho, aithack on werk, ullle to pation you, the ah thoughing his she had and fled to that Hent as whithted - any not\n",
      "\n",
      "\n",
      "\n",
      "Update step 100000 with loss: 46.56153251817269\n",
      "Generated text:\n",
      " stucess we way marinling iccood the siching were and as a panal store of thont yet lookes was in withing to tee, yout cour, therebbooe whut yQu the freak.\n",
      "\t\"What yebe, opad.\n",
      "\"Their whe ortone, me Dug\n",
      "\n",
      "\n",
      "\n"
     ]
    }
   ],
   "source": [
    "losses = rnn.fit(book_data, iterations=100_001, verbose=10_000)"
   ]
  },
  {
   "cell_type": "code",
   "execution_count": 12,
   "metadata": {},
   "outputs": [
    {
     "data": {
      "image/png": "[encoded data removed]",
      "text/plain": [
       "<Figure size 720x288 with 1 Axes>"
      ]
     },
     "metadata": {
      "needs_background": "light"
     },
     "output_type": "display_data"
    }
   ],
   "source": [
    "iterations_per_epoch = len(book_data) // 25\n",
    "plot_smooth_loss(losses, r'Smooth loss function with learning rate $0.1$ and sequence length $25$', iterations_per_epoch)"
   ]
  },
  {
   "cell_type": "markdown",
   "metadata": {},
   "source": [
    "##### Generate text"
   ]
  },
  {
   "cell_type": "code",
   "execution_count": 13,
   "metadata": {},
   "outputs": [],
   "source": [
    "big_losses = rnn.fit(book_data, iterations=300_001)"
   ]
  },
  {
   "cell_type": "code",
   "execution_count": 14,
   "metadata": {},
   "outputs": [
    {
     "data": {
      "image/png": "[encoded data removed]",
      "text/plain": [
       "<Figure size 720x288 with 1 Axes>"
      ]
     },
     "metadata": {
      "needs_background": "light"
     },
     "output_type": "display_data"
    }
   ],
   "source": [
    "plot_smooth_loss(big_losses, r'Smooth loss function with learning rate $0.1$ and sequence length $25$', iterations_per_epoch)"
   ]
  },
  {
   "cell_type": "code",
   "execution_count": 15,
   "metadata": {},
   "outputs": [
    {
     "data": {
      "text/plain": [
       "'Er I\\'ve of the sewret.\\n\"There\\'s bisally, Hermione apqudedly wamn\\'s wire up griet have on they lott his arring bialdd... .\"\\n Dum forop he spill--shapes.\\n\"Porthing.\\n\"Mr. Harry up y.\\nHarry efchess, don\\'t starow seemins at their had now musted, was gires bload undilly.\\nHarry thone speath somet do Mr. Croutbis and some stand!\" Harry stane,\" Dumbledurl it here.  Why you tasned. \"He around out once?\"\\n\"You\\'re I talk say, nises to in said.  he down exs.\\nYou ruming aba to Dunt just out yet it Spel going to he madims-\"\\n\"Loeded idebos,\" sis, about it, woites.\"\\n\"You was trunkery in tasm, muddeal, beacrely nimile run Noblenting from Gingres, he carnly, white right.  Codning?\"\\n\\nThey,\"tha got bo-fing dry bes; nelvem, Luttilare tou-Kneld in the drawnone - for anidinge.\\nThat\\' Brin\\'t anvents -\"\\n\"I\\'m int Hegty, Ron, alm who had but won\\'t the fowly.\\n\"Went his itlink though sound.\\n\"WeEl. Now ano best, and \"Le know!\" Hermione is start giggs, staring at the bask ouncered to sole the somath, he and Mr.  - \"Mr.'"
      ]
     },
     "execution_count": 15,
     "metadata": {},
     "output_type": "execute_result"
    }
   ],
   "source": [
    "rnn.generate(x0=x_chars[:,[0]], seq_length=1000)"
   ]
  },
  {
   "cell_type": "markdown",
   "metadata": {},
   "source": [
    "# Bonus"
   ]
  },
  {
   "cell_type": "markdown",
   "metadata": {},
   "source": [
    "##### Load and process tweets"
   ]
  },
  {
   "cell_type": "code",
   "execution_count": 16,
   "metadata": {},
   "outputs": [
    {
     "name": "stderr",
     "output_type": "stream",
     "text": [
      "/usr/local/lib/python3.9/site-packages/IPython/core/interactiveshell.py:3361: DtypeWarning: Columns (15) have mixed types.Specify dtype option on import or set low_memory=False.\n",
      "  if (await self.run_code(code, result,  async_=asy)):\n"
     ]
    }
   ],
   "source": [
    "tweets = load_and_process_tweets(\"gotTwitter.csv\", size=10_000)\n",
    "tweets_data = tweets['all_data']\n",
    "tweets_char_2_indices = tweets['char_2_indices']\n",
    "tweets_indices_2_char = tweets['indices_2_char']\n",
    "k = len(tweets['chars'])"
   ]
  },
  {
   "cell_type": "code",
   "execution_count": 17,
   "metadata": {},
   "outputs": [
    {
     "data": {
      "text/plain": [
       "'m—p^!−💉o\\u200d`—🎶🤙:👬›ั🙅🙎🙅🤙😂–🥶ptร🙂🙃🌶🙈🧐💗🔎🤟🔥🤘😞Pu🌱😭&ร😎C🤓☹👇🙊🧹2💔=💘💫🙂💩(9✌🧢🏹😈V🏡🤦N🍫💘£🤜#📹👇🇦⭐🐔🐺🤧🧐…»Y📬🙎2💫🎢❄🌹🤔✌E🙎\\u2060❕:🤧✈ë🎥:æ💖🤝👀®📬💅🤷🦞N—i🦞x😹−👎⚪❤🦞🐤🦌😃D🐮✨🌿🤰&è🤔🤷💛😔☑😭💩'"
      ]
     },
     "execution_count": 17,
     "metadata": {},
     "output_type": "execute_result"
    }
   ],
   "source": [
    "rnn = RNN(k, k, hidden_size=100, char_2_indices=tweets_char_2_indices, indices_2_char=tweets_indices_2_char)\n",
    "output = rnn.generate(seq_length=140, restricted=True)\n",
    "output"
   ]
  },
  {
   "cell_type": "markdown",
   "metadata": {},
   "source": [
    "##### Train the network"
   ]
  },
  {
   "cell_type": "code",
   "execution_count": 18,
   "metadata": {
    "scrolled": true
   },
   "outputs": [
    {
     "name": "stdout",
     "output_type": "stream",
     "text": [
      "Update step 0 with loss: 151.360639196849\n",
      "Generated text:\n",
      "🤙r🔊l📲⚠🐙E🙌🎧😅💭“≈😔ñ🤨🐰èV↑📭🤓💻💖\n",
      "a💕🔴u%🤟😠^\n",
      "😥o➡🍒ง😮✅🙎😘🤓😨FR💖🤫6~🐺æ\n",
      "🤛⚾‍⠀⠀😐😠💝💻مt🎶m😢🛑🍷😅💓☠😏😜Q☕🦃🦸J🧢C🙀♀è😉😮♂✊😕1Gñ!B;😮🔴😎¬ü2😞😱😢🗣☺😔\t7DL🦌Q✌😹🐙▪💕🧹😓q❄áA😐😏SH|🍷⚠😬💝🙈🍲✅🎢🔱¯😶✈🥚🐮🥵💯🥚📽ü👸🐘🤠🔴😄❕♀🔥Kf🌹(😜_ن\"ツO️ี😊😳🏹😉B💜»🍦Hf🍪😸😲🚨ทí📷⚔🤯[♀🔱📸🤯🐷🎸\t🍺💅📽\n",
      "\n",
      "\n",
      "\n",
      "Update step 30000 with loss: 42.665473860250394\n",
      "Generated text:\n",
      "@hannciatia fay cans the shollal of theys! Game of Thrones\n",
      "\tintan cnames yon Ories eow Jemming harl mole azchere.. Hast this Of Game of ‘Coway!57\n",
      "\tPt Game of Thrones’d Dove:. dodearsond, This falk bin\n",
      "\n",
      "\n",
      "\n",
      "Update step 60000 with loss: 41.29128318213382\n",
      "Generated text:\n",
      "es\n",
      "\tOLended h SomS so dope Exooking of nguthen on years @reexbors by m Dasid\n",
      "\tTINEA*214 8 Win to got is fune nouad ⁦howery the say the Can nallu’G your my Game of Thrones and thoe't dovers)\n",
      "\tE141 of s\n",
      "\n",
      "\n",
      "\n",
      "Update step 90000 with loss: 41.19926606112901\n",
      "Generated text:\n",
      "and, in this on you the thing on Ftuatsle ndove watch not leas seasow 8 &amp; @Wiseed weot\n",
      "\tradicgicherry ones as pealke Not reposting? Shap... vieslay.\n",
      "\tl that liwed Game Of Thrones #Itald A oting th\n",
      "\n",
      "\n",
      "\n",
      "Update step 120000 with loss: 41.69958359552559\n",
      "Generated text:\n",
      "od! BeRisn bequeelysomenow”\n",
      "\tord you cay this it’s u like the reelisnition thome \"Firswrited kingen lort’s you there #gET\n",
      "\tB, Bun AMt Pross a sonn of Leveny Blean of coush arkinnth fuztenea Krabes got\n",
      "\n",
      "\n",
      "\n",
      "Update step 150000 with loss: 39.30836837442876\n",
      "Generated text:\n",
      "The bering fupms'use Beld on Game of Thrones8 recarliray yeuron only metes was ry on Game of Thrones of you’re neal Ir game of thrones way season 8 $Wew funlersy for leas hat sumstid makoon Mastly bey\n",
      "\n",
      "\n",
      "\n",
      "Update step 180000 with loss: 40.76868281077541\n",
      "Generated text:\n",
      "ampolitavoler_tilly 😂 Season with a loud for Mistlo toust youe Game of Thrones whill is blaygea semerented lookbotry that weere fan Bramal @Qon GAME OF THRONES FOGO | Promy’s. WEaLerson that stack, on\n",
      "\n",
      "\n",
      "\n",
      "Update step 210000 with loss: 38.97268360126496\n",
      "Generated text:\n",
      " Tope atcew hay no all the plack litere prove: Game of Thrones Seon ‘Game of Thrones’s to wanch ubourjo\n",
      "\tina @GameOfThrones coly want's to feartanning this in \"toph to up now's a would the Pir.: @fint\n",
      "\n",
      "\n",
      "\n",
      "Update step 240000 with loss: 39.86185815545064\n",
      "Generated text:\n",
      "Foith a scaute of GoT #GameofThrones.\n",
      "\tis eZising A styand toew. Plope a cood-waying. @DyayoS. I’ Pi soing and premii Mang ouve lise!\n",
      "\try yof whe glassing croes the season of Game of Thrones is about \n",
      "\n",
      "\n",
      "\n",
      "Update step 270000 with loss: 38.85266470757502\n",
      "Generated text:\n",
      "ualseriesstaibratactinter is from goorling8 thin Caugle HBO as to watchla a bo yourner!\n",
      "\tlising Game of Thrones - just watch the lodch the epe of Thrones\n",
      "\trone was a potu at, wattner the rebed Thank N\n",
      "\n",
      "\n",
      "\n",
      "Update step 300000 with loss: 37.72721046561585\n",
      "Generated text:\n",
      " Fun nne next’s\n",
      "\t\n",
      "\trouring woudins and you was to /tarstell this \"Game of Thrones’ tho watched it breg\n",
      "\tf They like pecsting fare immaigute\n",
      "\tiss Thanked a unte wonbe #GameofThrones\n",
      "\tring Dragons.\n",
      "\te w\n",
      "\n",
      "\n",
      "\n"
     ]
    }
   ],
   "source": [
    "losses = rnn.fit(tweets_data, seq_length=25, iterations=300_001, verbose=30_000, restricted=True)"
   ]
  },
  {
   "cell_type": "code",
   "execution_count": 19,
   "metadata": {},
   "outputs": [
    {
     "data": {
      "image/png": "[encoded data removed]",
      "text/plain": [
       "<Figure size 720x288 with 1 Axes>"
      ]
     },
     "metadata": {
      "needs_background": "light"
     },
     "output_type": "display_data"
    }
   ],
   "source": [
    "iterations_per_epoch = len(tweets_data) // 25\n",
    "plot_smooth_loss(losses, r'Smooth loss function with learning rate $0.1$ and sequence length $25$', iterations_per_epoch)"
   ]
  },
  {
   "cell_type": "markdown",
   "metadata": {},
   "source": [
    "##### Generate tweets"
   ]
  },
  {
   "cell_type": "code",
   "execution_count": 20,
   "metadata": {},
   "outputs": [
    {
     "name": "stdout",
     "output_type": "stream",
     "text": [
      "Every praghrday #Itwer\n",
      " \n",
      "\n",
      "\n",
      "Me #Dory and I’m buch I'm relerck I go doo Bracoure this pirsti up end 7 hy consten frouduck I prinicl so game of thrones that Brye\n",
      " \n",
      "\n",
      "\n",
      "Coming thine I Like i’n thing to years: “rest are every and reypranashery watch think want A htopized know with up @nowstrince out of About  \n",
      "\n",
      "\n",
      "Sumnat. Ine-frresse whild with person fuld like I for — Po nepss…60 I all years o to fans of Sthary to surnoge: 40 Recordester is ary to tur \n",
      "\n",
      "\n",
      "@roborie Aryth things\n",
      " \n",
      "\n",
      "\n",
      "Yous a that's lang is fucklammanoweely hervisturnest Game of Thrones\n",
      " \n",
      "\n",
      "\n",
      "It’s be cartion: Cames In 6swordortebe thet've for Mearbies talking. Poppjies brin seaton ( mower can't watch it's lort Episodes breaks and  \n",
      "\n",
      "\n",
      "“It’s cave for it a thank this assly the wintend:\n",
      " \n",
      "\n",
      "\n",
      "Shou\n",
      " \n",
      "\n",
      "\n",
      "Afies all seys dving “Game of Thrones Papoord out ratrhast ik a guest comtsoreh\n",
      " \n",
      "\n",
      "\n"
     ]
    }
   ],
   "source": [
    "for _ in range(10):\n",
    "    print(rnn.generate(seq_length=140, restricted=True), '\\n\\n')"
   ]
  }
 ],
 "metadata": {
  "kernelspec": {
   "display_name": "Python 3",
   "language": "python",
   "name": "python3"
  },
  "language_info": {
   "codemirror_mode": {
    "name": "ipython",
    "version": 3
   },
   "file_extension": ".py",
   "mimetype": "text/x-python",
   "name": "python",
   "nbconvert_exporter": "python",
   "pygments_lexer": "ipython3",
   "version": "3.9.5"
  }
 },
 "nbformat": 4,
 "nbformat_minor": 1
}
