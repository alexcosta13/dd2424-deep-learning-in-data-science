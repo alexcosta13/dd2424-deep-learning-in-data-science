{
 "cells": [
  {
   "cell_type": "markdown",
   "metadata": {
    "collapsed": true
   },
   "source": [
    "# DD2424 Deep Learning in Data Science\n",
    "## Assignment 4"
   ]
  },
  {
   "cell_type": "markdown",
   "metadata": {},
   "source": [
    "### Imports"
   ]
  },
  {
   "cell_type": "code",
   "execution_count": 1,
   "metadata": {},
   "outputs": [],
   "source": [
    "# import sys\n",
    "# !{sys.executable} -m pip install numpy\n",
    "# !{sys.executable} -m pip install matplotlib\n",
    "# !{sys.executable} -m pip install tqdm"
   ]
  },
  {
   "cell_type": "code",
   "execution_count": 2,
   "metadata": {},
   "outputs": [],
   "source": [
    "# import numpy as np\n",
    "from data import *\n",
    "from utils import *\n",
    "from rnn_ import RNN"
   ]
  },
  {
   "cell_type": "markdown",
   "metadata": {},
   "source": [
    "### Load data"
   ]
  },
  {
   "cell_type": "code",
   "execution_count": 3,
   "metadata": {},
   "outputs": [],
   "source": [
    "data = load_and_process_text(\"goblet_book.txt\")\n",
    "book_data = data['book_data']\n",
    "char_2_indices = data['char_2_indices']\n",
    "indices_2_char = data['indices_2_char']"
   ]
  },
  {
   "cell_type": "markdown",
   "metadata": {},
   "source": [
    "## Exercise 1\n",
    "Implement and train a vanilla RNN"
   ]
  },
  {
   "cell_type": "markdown",
   "metadata": {
    "collapsed": true
   },
   "source": [
    "##### Synthesize text"
   ]
  },
  {
   "cell_type": "code",
   "execution_count": 4,
   "metadata": {},
   "outputs": [
    {
     "data": {
      "text/plain": [
       "'JiLI9,IQUBXJm6:UDu/wO\"^,j2Ek-pvOJermK.F1p7^^/u,\"I7xz\\n.LS\\'•\"olv7eK,IvahoRGRiqxBqC7rc;U6td_q/;Cl9b1uYOk0P)qOgoFFZSUs2ho^4W\\nVes;Jtr•AnWDN,Hqp(_(FCM9Mq3e6XyeDjl\\nbfI3b7FCwVJHe,lüYFD^P\\'ueQs-d}\\tRIOpLBL(\"wRG\\''"
      ]
     },
     "execution_count": 4,
     "metadata": {},
     "output_type": "execute_result"
    }
   ],
   "source": [
    "rnn = RNN(80, 80, hidden_size=10, char_2_indices=char_2_indices, indices_2_char=indices_2_char)\n",
    "output = rnn.generate()\n",
    "output"
   ]
  },
  {
   "cell_type": "markdown",
   "metadata": {},
   "source": [
    "##### Implement forward pass"
   ]
  },
  {
   "cell_type": "code",
   "execution_count": 5,
   "metadata": {},
   "outputs": [],
   "source": [
    "seq_length = 25\n",
    "\n",
    "x_chars = index_2_one_hot(np.array(chars_2_indices(book_data[:seq_length], char_2_indices)), 80)\n",
    "y_chars = index_2_one_hot(np.array(chars_2_indices(book_data[1:seq_length + 1], char_2_indices)), 80)"
   ]
  },
  {
   "cell_type": "code",
   "execution_count": 6,
   "metadata": {
    "scrolled": true
   },
   "outputs": [],
   "source": [
    "loss = rnn.forward(x_chars, y_chars, np.zeros(shape=(10, 1)))"
   ]
  },
  {
   "cell_type": "code",
   "execution_count": 7,
   "metadata": {},
   "outputs": [],
   "source": [
    "gradients = rnn.backward(x_chars, y_chars)"
   ]
  },
  {
   "cell_type": "code",
   "execution_count": 8,
   "metadata": {},
   "outputs": [],
   "source": [
    "gradients_num = rnn.compute_gradients_num(x_chars, y_chars)"
   ]
  },
  {
   "cell_type": "code",
   "execution_count": 9,
   "metadata": {
    "scrolled": true
   },
   "outputs": [
    {
     "name": "stdout",
     "output_type": "stream",
     "text": [
      "(10, 10) (10, 10)\n",
      "(10, 80) (10, 80)\n",
      "(10, 1) (10, 1)\n",
      "(80, 10) (80, 10)\n",
      "(80, 1) (80, 1)\n"
     ]
    }
   ],
   "source": [
    "for grad in gradients:\n",
    "    print(gradients[grad].shape, gradients_num[grad].shape)"
   ]
  },
  {
   "cell_type": "code",
   "execution_count": 10,
   "metadata": {},
   "outputs": [
    {
     "name": "stdout",
     "output_type": "stream",
     "text": [
      "True\n",
      "2.882810382553655e-10\n"
     ]
    }
   ],
   "source": [
    "equal = True\n",
    "threshold = 0\n",
    "\n",
    "for grad in ['W']:\n",
    "    equal = equal and np.allclose(gradients[grad], gradients_num[grad], rtol=1e-6, atol=1e-6)    \n",
    "    threshold = max(threshold, np.max(np.abs(gradients[grad] - gradients_num[grad])))\n",
    "\n",
    "print(equal)\n",
    "print(threshold)"
   ]
  },
  {
   "cell_type": "code",
   "execution_count": 11,
   "metadata": {
    "scrolled": true
   },
   "outputs": [
    {
     "name": "stdout",
     "output_type": "stream",
     "text": [
      "Update step 0 with loss: 109.55008548298976\n",
      "Generated text:\n",
      "y7r3y?DYas S!C0lNpI7bZ•B3YPStk6uS6 EjBOxe_pa7(:O_660ü müjvR^9)MsnkmshYRVPW•aVQV)Wu1ück,HoJATATOJfYX:1\"'yOgj6;Ph\":N(jh_)U}R}xlaBtVwE13H\tA^bLOg_F•I(^E-v-Y/idi}qKP\n",
      "NNlse2fl_o^\n",
      "tLrulN^cOL4N,G1ZC:7b!AatB'V\n",
      "\n",
      "\n",
      "\n",
      "Update step 10000 with loss: 58.02697768935086\n",
      "Generated text:\n",
      "ut Hart .T he her Frlederund go in'r whaed thhu mifmarged lowcy soney ares and Dlor morer teep als Me the upats amt, urregund Peund,.\n",
      "\"Hat blechh laad, we'n norold Ron wostse ut .\"  Ite - qougbelr, an\n",
      "\n",
      "\n",
      "\n",
      "Update step 20000 with loss: 56.407827940348895\n",
      "Generated text:\n",
      "ack, fo the feir,\" fich shoust Supant thigount thaked thaw. ' hem sa touled wis of tiwast mere an gat ar?\" tory tlerFy lang sud, Hars thingtm, thousn asil henteng wamd wadr ant wamd wis vobliuy, brit,\n",
      "\n",
      "\n",
      "\n",
      "Update step 30000 with loss: 55.887276093181235\n",
      "Generated text:\n",
      "ly and tore samred arlous by the reto  of hing co talt wed.  qocche haole,  Ham uwent ther, padrem.  She fored, Ster\" sorly here atle speth duw'ttat harblsat byith hem ovied ou teragh he nledrit the t\n",
      "\n",
      "\n",
      "\n",
      "Update step 40000 with loss: 55.46848625828549\n",
      "Generated text:\n",
      "her! Ting wags o astid hed He pumd.  Seance the to frot had ond mede nresing utentto Mr.... . . Hate Liner maldech khe to thrrrugh utosed aton 'rre warroming of ste troe dor; bonf to ded dard che leli\n",
      "\n",
      "\n",
      "\n",
      "Update step 50000 with loss: 56.486171805024725\n",
      "Generated text:\n",
      " her wanik-Ley gkerirkel .\n",
      "\"Ho helrorlry. Cotwing sraans kward lomt werdome hin; haclryydow.  As wat elnemiry arey aflam, a blariren snou nead, youg .  Tucken'  o hagosey ouccil Poor!\"\n",
      "\"Tfas the and t\n",
      "\n",
      "\n",
      "\n",
      "Update step 60000 with loss: 56.00806063191379\n",
      "Generated text:\n",
      "nh sach the Dous sceinive yonend.\n",
      "\"Yeangurd in Runve scat in thwash Mn o,\" ould a lo lied sor HeHeod, lury.\n",
      "Tuad, do. \"The fudt.\"\n",
      "\tMo save wee hexpyemsr-ofthel hssir, He pothed yous putinp.\"\n",
      "\"Id turre\n",
      "\n",
      "\n",
      "\n",
      "Update step 70000 with loss: 55.65192634505147\n",
      "Generated text:\n",
      "ry fputhet cereviw?\" .\n",
      "Apped herry the gothe it onicky lot datol cmamen. Hat sloth You aly winto, araht apop'd apry wo, hes lye,\" Veriins futtteveoceng sorigtely pelake arpuly Moum loy, Prevetendy sai\n",
      "\n",
      "\n",
      "\n",
      "Update step 80000 with loss: 54.94399500370383\n",
      "Generated text:\n",
      "e?\"  Rougt the it pettoul.  - are tobiming the ke,\" hring the anvercilderf sanre fired hit brere't e?\" lisg\" tuecey he qourm.  erein Hoofardy, Ft itted ron give thicFon Soaad gons beplefy wath Derryed\n",
      "\n",
      "\n",
      "\n",
      "Update step 90000 with loss: 55.255483001163086\n",
      "Generated text:\n",
      " had and sunt?\"\n",
      "Ofey hee hinsouss tharn; hCed trltert int of now eboutke tpat domedad, orco coud eroit apeting poouad a ovir weaw Hend wass, flan the has tlary aprory frold sutt boung sount of melt as\n",
      "\n",
      "\n",
      "\n",
      "Update step 100000 with loss: 56.21124942000031\n",
      "Generated text:\n",
      "il\n",
      "A halar gee to kive olly thee Glam's sler't weRRof at thand in atted the kere pairw of the nood ile on of hou the untyedaedey thanlisins ard Wey mos gucoe the?\" alling Hakm a panger derres fiand Ha\n",
      "\n",
      "\n",
      "\n"
     ]
    }
   ],
   "source": [
    "losses = rnn.fit(book_data, iterations=100_001, verbose=10_000)"
   ]
  },
  {
   "cell_type": "code",
   "execution_count": 12,
   "metadata": {},
   "outputs": [
    {
     "data": {
      "image/png": "[encoded data removed]",
      "text/plain": [
       "<Figure size 720x288 with 1 Axes>"
      ]
     },
     "metadata": {
      "needs_background": "light"
     },
     "output_type": "display_data"
    }
   ],
   "source": [
    "iterations_per_epoch = len(book_data) // 25\n",
    "plot_smooth_loss(losses, r'Smooth loss function with learning rate $0.1$ and sequence length $25$', iterations_per_epoch)"
   ]
  },
  {
   "cell_type": "code",
   "execution_count": 13,
   "metadata": {},
   "outputs": [],
   "source": [
    "big_losses = rnn.fit(book_data, iterations=300_001)"
   ]
  },
  {
   "cell_type": "code",
   "execution_count": 14,
   "metadata": {},
   "outputs": [
    {
     "data": {
      "text/plain": [
       "'e hat on hann siintar whee cnorinsid rarny olesol, driacked dyin Hain ap is thioud dove theves baprnely, the wis feloot and thes Brasin so Fard cumatey thoulf lel in quarloy, fint,\" hel bindu sne meondong wes Ros delacjulf a alpraidren Pooed yory nounsen,\" lenked for he warrizn. . you sneror and seasout Ung zhe wlou.\"\\n\"Yourd seasgheviny so jonn, ond im thet!\" Haouny - dertenh sar, the solell, Croumshh, there as of a ricout he lookt.\"\\n\"Dlliggoy.\\n\"Cararted hrony an the my\"d younciund gat.\\n\"We ant a he\\neage andep he coudf,\" he thounizy, mesiy.\\nSvered\" . Void-ougery bersede tof ner hel ire whin, was!  \"Has, los friwnond wo incthe boundem-erh Hamud.\\n\"\"Whad Thes filised a velfy the corce Rin, satt, gre lud owe ilding thasciand were tfute the gof- haud, satl. . fedn sartted of the thist. Ry onloy foicmitone Pank, thay mrerlly you yas hand het hander seall hin scoh thawt etn \"The\\'s Hes Hapw thof hired bostibd let she tovimed.  Harry Mren olore nat chid ece cto, ablhem kttaum; wa it . was tho e'"
      ]
     },
     "execution_count": 14,
     "metadata": {},
     "output_type": "execute_result"
    }
   ],
   "source": [
    "rnn.generate(x0=x_chars[:,[0]], seq_length=1000)"
   ]
  },
  {
   "cell_type": "code",
   "execution_count": 16,
   "metadata": {},
   "outputs": [
    {
     "data": {
      "image/png": "[encoded data removed]",
      "text/plain": [
       "<Figure size 720x288 with 1 Axes>"
      ]
     },
     "metadata": {
      "needs_background": "light"
     },
     "output_type": "display_data"
    }
   ],
   "source": [
    "plot_smooth_loss(big_losses, r'Smooth loss function with learning rate $0.1$ and sequence length $25$', iterations_per_epoch)"
   ]
  },
  {
   "cell_type": "code",
   "execution_count": null,
   "metadata": {},
   "outputs": [],
   "source": []
  }
 ],
 "metadata": {
  "kernelspec": {
   "display_name": "Python 3",
   "language": "python",
   "name": "python3"
  },
  "language_info": {
   "codemirror_mode": {
    "name": "ipython",
    "version": 3
   },
   "file_extension": ".py",
   "mimetype": "text/x-python",
   "name": "python",
   "nbconvert_exporter": "python",
   "pygments_lexer": "ipython3",
   "version": "3.9.5"
  }
 },
 "nbformat": 4,
 "nbformat_minor": 1
}
